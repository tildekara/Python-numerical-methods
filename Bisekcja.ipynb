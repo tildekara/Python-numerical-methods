{
 "cells": [
  {
   "cell_type": "code",
   "execution_count": 5,
   "metadata": {
    "collapsed": false
   },
   "outputs": [
    {
     "name": "stdout",
     "output_type": "stream",
     "text": [
      "a 3, b -3\n",
      "srodek 0.0, f_srodek -4.0\n",
      "a 0.0, b -3\n",
      "srodek -1.5, f_srodek -1.75\n",
      "a -1.5, b -3\n",
      "srodek -2.25, f_srodek 1.0625\n",
      "a -1.5, b -2.25\n",
      "srodek -1.875, f_srodek -0.484375\n",
      "a -1.875, b -2.25\n",
      "srodek -2.0625, f_srodek 0.25390625\n",
      "a -1.875, b -2.0625\n",
      "srodek -1.96875, f_srodek -0.1240234375\n",
      "a -1.96875, b -2.0625\n",
      "srodek -2.015625, f_srodek 0.062744140625\n",
      "a -1.96875, b -2.015625\n",
      "srodek -1.9921875, f_srodek -0.03118896484375\n",
      "a -1.9921875, b -2.015625\n",
      "srodek -2.00390625, f_srodek 0.0156402587890625\n",
      "a -1.9921875, b -2.00390625\n",
      "srodek -1.998046875, f_srodek -0.007808685302734375\n",
      "a -1.998046875, b -2.00390625\n",
      "srodek -2.0009765625, f_srodek 0.003907203674316406\n",
      "a -1.998046875, b -2.0009765625\n",
      "srodek -1.99951171875, f_srodek -0.0019528865814208984\n",
      "a -1.99951171875, b -2.0009765625\n",
      "srodek -2.000244140625, f_srodek 0.0009766221046447754\n",
      "a -1.99951171875, b -2.000244140625\n",
      "srodek -1.9998779296875, f_srodek -0.00048826634883880615\n",
      "a -1.9998779296875, b -2.000244140625\n",
      "srodek -2.00006103515625, f_srodek 0.00024414435029029846\n",
      "a -1.9998779296875, b -2.00006103515625\n",
      "srodek -1.999969482421875, f_srodek -0.00012206938117742538\n",
      "a -1.999969482421875, b -2.00006103515625\n"
     ]
    },
    {
     "data": {
      "image/png": "[encoded data removed]",
      "text/plain": [
       "<matplotlib.figure.Figure at 0xe71e87b0f0>"
      ]
     },
     "metadata": {},
     "output_type": "display_data"
    }
   ],
   "source": [
    "import numpy as np\n",
    "import matplotlib.pyplot as plt\n",
    "%matplotlib inline\n",
    "\n",
    "def f(x):\n",
    "    return x**2 - 4\n",
    "\n",
    "x_dolny = -3\n",
    "x_gorny = 3\n",
    "x = np.linspace(x_dolny, x_gorny, 1000)\n",
    "\n",
    "y = f(x)\n",
    "plt.grid()\n",
    "plt.plot(x, y)\n",
    "\n",
    "a = x_dolny\n",
    "b = x_gorny\n",
    "if b > a:\n",
    "    a, b = b, a\n",
    "f_a = f(a)\n",
    "f_b = f(b)\n",
    "\n",
    "dokladnosc = 0.0001\n",
    "while(abs(a-b)>dokladnosc):\n",
    "    print(\"a {}, b {}\".format(a, b))\n",
    "    srodek = (a+b)/2\n",
    "    f_srodek = f(srodek)\n",
    "    if (f_srodek > 0):\n",
    "        a, b = a, srodek\n",
    "        f_a, f_b = f_a, f_srodek\n",
    "    elif (f_srodek == 0):\n",
    "        print (\"pierwiastek w {}\".format(srodek))\n",
    "        break\n",
    "    else:\n",
    "        a, b = srodek, b\n",
    "        f_a, f_b = f_srodek, f_b\n",
    "    print(\"srodek {}, f_srodek {}\".format(srodek, f_srodek))\n",
    "print(\"a {}, b {}\".format(a, b))"
   ]
  },
  {
   "cell_type": "code",
   "execution_count": 31,
   "metadata": {
    "collapsed": false
   },
   "outputs": [
    {
     "name": "stdout",
     "output_type": "stream",
     "text": [
      "4 12\n",
      "2.5 2.25\n",
      "2.05 0.20249999999999968\n",
      "2.000609756097561 0.002439396192741583\n",
      "2.0000000929222947 3.716891878724482e-07\n"
     ]
    },
    {
     "data": {
      "text/plain": [
       "[<matplotlib.lines.Line2D at 0x7f67283f7cc0>]"
      ]
     },
     "execution_count": 31,
     "metadata": {},
     "output_type": "execute_result"
    },
    {
     "data": {
      "image/png": "[encoded data removed]",
      "text/plain": [
       "<matplotlib.figure.Figure at 0x7f672865b780>"
      ]
     },
     "metadata": {},
     "output_type": "display_data"
    }
   ],
   "source": [
    "def fprime(x):\n",
    "    return 2*x\n",
    "\n",
    "# def fprime(x):\n",
    "#     dx = 0.01\n",
    "#     return (f(x+dx) - f(x-dx))/(2*dx)\n",
    "\n",
    "x_trial = 4\n",
    "f_trial = f(x_trial)\n",
    "lista_x = []\n",
    "lista_y = []\n",
    "while(abs(f_trial) > dokladnosc):\n",
    "    print(x_trial, f_trial)\n",
    "    lista_x.append(x_trial)\n",
    "    lista_y.append(f_trial)\n",
    "    fprime_trial = fprime(x_trial)\n",
    "    delta_x = -f_trial/fprime_trial\n",
    "    x_trial = x_trial + delta_x\n",
    "    f_trial = f(x_trial)\n",
    "\n",
    "print(x_trial, f_trial)\n",
    "plt.plot(x,y)\n",
    "plt.grid()\n",
    "plt.plot(lista_x, lista_y, 'go--')"
   ]
  },
  {
   "cell_type": "markdown",
   "metadata": {},
   "source": [
    "$5= df/dx = \\Delta f/\\Delta x$\n",
    "\n",
    "$\\Delta f = -f$\n",
    "\n",
    "$(df/dx)/(-f) = 1/ \\Delta x$\n",
    "\n",
    "$(-f)/(df/dx) = \\Delta x$"
   ]
  },
  {
   "cell_type": "code",
   "execution_count": 26,
   "metadata": {
    "collapsed": false
   },
   "outputs": [
    {
     "name": "stdout",
     "output_type": "stream",
     "text": [
      "4 12\n",
      "2.666666666666667 3.1111111111111125\n",
      "2.2 0.8400000000000007\n",
      "2.0273972602739727 0.1103396509664103\n",
      "2.001296176279974 0.005186385192845755\n",
      "2.000008814688797 3.525883288713061e-05\n"
     ]
    },
    {
     "data": {
      "text/plain": [
       "[<matplotlib.lines.Line2D at 0x7f67285ce7b8>]"
      ]
     },
     "execution_count": 26,
     "metadata": {},
     "output_type": "execute_result"
    },
    {
     "data": {
      "image/png": "[encoded data removed]",
      "text/plain": [
       "<matplotlib.figure.Figure at 0x7f67285ce6d8>"
      ]
     },
     "metadata": {},
     "output_type": "display_data"
    }
   ],
   "source": [
    "x_trial = 4\n",
    "x_previous = 5\n",
    "f_trial = f(x_trial)\n",
    "f_previous = f(x_previous)\n",
    "lista_x = []\n",
    "lista_y = []\n",
    "while(abs(f_trial) > dokladnosc):\n",
    "    print(x_trial, f_trial)\n",
    "    lista_x.append(x_trial)\n",
    "    lista_y.append(f_trial)\n",
    "    fprime_trial = (f_trial - f_previous)/(x_trial - x_previous)\n",
    "    delta_x = -f_trial/fprime_trial\n",
    "    x_previous = x_trial\n",
    "    f_previous = f_trial\n",
    "    x_trial = x_trial + delta_x\n",
    "    f_trial = f(x_trial)\n",
    "\n",
    "print(x_trial, f_trial)\n",
    "plt.plot(x,y)\n",
    "plt.grid()\n",
    "plt.plot(lista_x, lista_y, 'go--')"
   ]
  }
 ],
 "metadata": {
  "kernelspec": {
   "display_name": "Python 3",
   "language": "python",
   "name": "python3"
  },
  "language_info": {
   "codemirror_mode": {
    "name": "ipython",
    "version": 3
   },
   "file_extension": ".py",
   "mimetype": "text/x-python",
   "name": "python",
   "nbconvert_exporter": "python",
   "pygments_lexer": "ipython3",
   "version": "3.5.1"
  }
 },
 "nbformat": 4,
 "nbformat_minor": 0
}
