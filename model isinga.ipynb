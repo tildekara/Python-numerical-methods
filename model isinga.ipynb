{
 "cells": [
  {
   "cell_type": "code",
   "execution_count": 1,
   "metadata": {
    "collapsed": true
   },
   "outputs": [],
   "source": [
    "#model isinga 2D na prostokątnej siatce\n",
    "import numpy as np\n",
    "import matplotlib.pyplot as plt\n",
    "import matplotlib.animation as ani"
   ]
  },
  {
   "cell_type": "code",
   "execution_count": 4,
   "metadata": {
    "collapsed": false
   },
   "outputs": [],
   "source": [
    "#losujemy spin, liczymy energie i prawdopod przerzucenia go i zmiane akceptujemy albo nie\n",
    "\n",
    "k = 1\n",
    "J = 1 #calka wymiany\n",
    "T = 5\n",
    "beta = 1/k/T\n",
    "\n",
    "N = 32 #16x16 spinow w siatce\n",
    "NT = 100000 #liczba krokow czasowych\n",
    "snap_every = 1000 #co tyle animacji pokazuje??\n",
    "N_snapshots = NT // snap_every # // robi dzielenie calkowite bo nie mozemy miec 3.5 zdjec :D\n",
    "\n",
    "\n",
    "spins = np.random.randint(0,2,size = (N,N))*2-1 #tu losujemy zeby bylo -1 albo 1\n",
    "#magnetyzacja\n",
    "magnetyzacja = spins.sum()\n",
    "\n",
    "def plot(spins):\n",
    "    fig = plt.figure()\n",
    "    axis = fig.add_subplot(111)\n",
    "    axis.imshow(spins, cmap = 'Greys', interpolation = 'none', origin = 'lower')\n",
    "    axis.set_title(T)\n",
    "    plt.show()\n",
    "\n",
    "def flip_spin(spins):\n",
    "    \"\"\"\n",
    "    1. wybieramy losowo spin\n",
    "        * x, y = random int[0,16]\n",
    "    2. liczymy energie\n",
    "        * E = - J spin[x, y] * suma po sasiadach z uwzglednieniem okresowych warunkow brzegowych z modulo z ujemnymi\n",
    "    3. liczymy prawdopodobienstwo przerzucenia = exp(-2*E*beta)\n",
    "    4. losujemy uniform(0,1)\n",
    "    5. jesli boltzmann > uniform(0,1): przerzucamy\n",
    "    6. losowo wybrany spin jest przerzucony do gory nogami z prawdopodobienstwem boltzmannowskim\n",
    "    \"\"\"\n",
    "    global magnetyzacja\n",
    "    x, y = np.random.randint(0, N, size = 2)\n",
    "    E = J* 2 * spins[x, y]* (spins[(x+1)%N, y] + spins[(x-1)%N, y]+ spins[x, (y+1)%N]+ spins[x, (y-1)%N])\n",
    "    boltzmann = np.exp(-E*beta)\n",
    "    uniform = np.random.random()\n",
    "    \n",
    "    if uniform < boltzmann:\n",
    "        zmiana_magnetyzacji = -2*spins[x,y]\n",
    "        spins[x,y] = spins[x,y] * -1\n",
    "        magnetyzacja += zmiana_magnetyzacji\n",
    "\n",
    "spins_history = np.empty((N_snapshots, N, N))\n",
    "mag_history = np.empty(NT)\n",
    "#plot(spins)\n",
    "for i in range(NT):\n",
    "    if (i%snap_every == 0):\n",
    "        spins_history[i//snap_every] = spins\n",
    "    mag_history[i] = magnetyzacja\n",
    "    flip_spin(spins)\n",
    "\n",
    "def plot_mag():\n",
    "    plt.plot(mag_history/N**2)\n",
    "    plt.show()\n",
    "    \n",
    "def animacja(): #nie musi brac arguemntu\n",
    "    fig = plt.figure()\n",
    "    axis = fig.add_subplot(111)\n",
    "    #zmiana 1 ponizej: IM = spins_history[0] zamiast spins\n",
    "    IM = axis.imshow(spins_history[0], cmap = 'Greys', interpolation = 'none', origin = 'lower')\n",
    "    # zmiana 2\n",
    "    title = axis.set_title(\"T = {}, i = {}\".format(T,0))\n",
    "    \n",
    "    def animate(i_snapshot):\n",
    "        IM.set_array(spins_history[i_snapshot])\n",
    "        axis.set_title(\"T = {}, i = {}\".format(T,i_snapshot*snap_every))\n",
    "        return [IM, title]\n",
    "    \n",
    "    animacja_obiekt = ani.FuncAnimation(fig, animate, frames = N_snapshots)\n",
    "    plt.show()\n",
    "\n",
    "animacja()\n",
    "plot_mag()"
   ]
  },
  {
   "cell_type": "code",
   "execution_count": 81,
   "metadata": {
    "collapsed": false,
    "scrolled": false
   },
   "outputs": [
    {
     "data": {
      "text/plain": [
       "array([ -3.48987680e+07,  -2.08047292e+06,  -8.85596736e+06, ...,\n",
       "         4.45479934e+02,  -1.33630714e+02,   4.84000000e+02])"
      ]
     },
     "execution_count": 81,
     "metadata": {},
     "output_type": "execute_result"
    }
   ],
   "source": [
    "import scipy.fftpack as fft\n",
    "#y-ki sa zle zwrocone wiec trzeba zmienic\n",
    "f = fft.rfftfreq(NT)\n",
    "t = np.arange(10000)\n",
    "y = np.sin(2*np.pi*t/1000)+np.sin(2*np.pi*t/(1000/10))\n",
    "y_transf = fft.rfftfreq(10000)\n",
    "y_fft = fft.rfft(y)**2\n",
    "y_fft[0] = 5e8\n",
    "\n",
    "y_odwrotna = fft.irfft(y_fft)/10000\n",
    "#plt.plot(y_transf, y_fft, 'bo-')\n",
    "plt.plot(t, y, 'b-')\n",
    "plt.plot(t, y_odwrotna, 'r-')\n",
    "plt.show()\n",
    "\n",
    "\n",
    "plt.plot(f, np.log10(fft.rfft(mag_history)**2))\n",
    "plt.show()\n",
    "fft.rfft(mag_history) #real fast fourier transform"
   ]
  },
  {
   "cell_type": "code",
   "execution_count": 88,
   "metadata": {
    "collapsed": false
   },
   "outputs": [
    {
     "name": "stderr",
     "output_type": "stream",
     "text": [
      "C:\\Anaconda3\\lib\\site-packages\\ipykernel\\__main__.py:16: RuntimeWarning: divide by zero encountered in true_divide\n"
     ]
    }
   ],
   "source": [
    "#poisson 1D przez fouriera\n",
    "N = 1000\n",
    "x = np.linspace(-10,10,1000)\n",
    "dx = x[1]-x[0]\n",
    "#gestosc ladunku z potencjalu = gestosc ladunku/epsilon 0 (1)\n",
    "#d2phi/dx2 = rho\n",
    "#(d/dx) -> -i*k\n",
    "#(d/dx)^2 -> -k^2\n",
    "# -k^2 phi = rho\n",
    "# phi = -rho/k^2\n",
    "\n",
    "epsilon_0 = 1\n",
    "rho = np.sin(x**2)\n",
    "\n",
    "k = fft.rfftfreq(N, dx)\n",
    "phi_f = -fft.rfft(rho)/k**2\n",
    "phi_f[0] = 0\n",
    "phi = fft.irfft(phi_f)/N #*normalizacja\n",
    "plt.plot(x, rho)\n",
    "plt.plot(x, phi)\n",
    "plt.show()"
   ]
  },
  {
   "cell_type": "code",
   "execution_count": null,
   "metadata": {
    "collapsed": true
   },
   "outputs": [],
   "source": []
  }
 ],
 "metadata": {
  "kernelspec": {
   "display_name": "Python 3",
   "language": "python",
   "name": "python3"
  },
  "language_info": {
   "codemirror_mode": {
    "name": "ipython",
    "version": 3
   },
   "file_extension": ".py",
   "mimetype": "text/x-python",
   "name": "python",
   "nbconvert_exporter": "python",
   "pygments_lexer": "ipython3",
   "version": "3.5.1"
  }
 },
 "nbformat": 4,
 "nbformat_minor": 0
}
